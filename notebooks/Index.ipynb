{
 "cells": [
  {
   "cell_type": "markdown",
   "metadata": {},
   "source": [
    "## Interactive Widgets\n",
    "* [ipywidgets](https://ipywidgets.readthedocs.io/en/latest/examples/Widget%20List.html)\n",
    "* [bqplot](https://bqplot.readthedocs.io/en/latest/api_documentation.html#bqplot-package)\n",
    "* [Jupyter Widgets](https://jupyter.org/widgets)\n",
    "\n",
    "## Widget Examples\n",
    "* [ipywidgets](demos/widgets/ipywidgets.ipynb)\n",
    "* [bqplot](demos/widgets/Bqplot.ipynb)\n",
    "* [Mark Interactions](demos/widgets/Mark%20Interactions.ipynb)\n",
    "* [Selectors](demos/widgets/Selectors.ipynb)\n",
    "\n",
    "\n",
    "## Demos\n",
    "\n",
    "### General\n",
    "* [Logs Analytics](demos/Logs%20Analytics/Logs%20Dashboard.ipynb)\n",
    "* Wealth Of Nations\n",
    "  * [Bubble Chart](demos/Wealth%20Of%20Nations/Bubble%20Chart.ipynb)\n",
    "  * [Choropleth](demos/Wealth%20Of%20Nations/Choropleth.ipynb)\n",
    "\n",
    "### Machine Learning\n",
    "* [Gradient Descent](demos/Gradient%20Descent.ipynb)\n",
    "* [K-Means Clustering.ipynb](demos/K-Means%20Clustering.ipynb)\n",
    "* [Kernel Regression](demos/Kernel%20Regression.ipynb)"
   ]
  }
 ],
 "metadata": {
  "kernelspec": {
   "display_name": "Python 3",
   "language": "python",
   "name": "python3"
  },
  "language_info": {
   "codemirror_mode": {
    "name": "ipython",
    "version": 3
   },
   "file_extension": ".py",
   "mimetype": "text/x-python",
   "name": "python",
   "nbconvert_exporter": "python",
   "pygments_lexer": "ipython3",
   "version": "3.7.3"
  }
 },
 "nbformat": 4,
 "nbformat_minor": 2
}
